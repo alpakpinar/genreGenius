{
 "cells": [
  {
   "cell_type": "code",
   "execution_count": 9,
   "metadata": {},
   "outputs": [],
   "source": [
    "import gensim\n",
    "import pandas as pd\n",
    "import numpy as np"
   ]
  },
  {
   "cell_type": "code",
   "execution_count": 2,
   "metadata": {},
   "outputs": [
    {
     "name": "stdout",
     "output_type": "stream",
     "text": [
      "  artist                   song                                        link  \\\n",
      "0   ABBA  Ahe's My Kind Of Girl  /a/abba/ahes+my+kind+of+girl_20598417.html   \n",
      "1   ABBA       Andante, Andante       /a/abba/andante+andante_20002708.html   \n",
      "2   ABBA         As Good As New        /a/abba/as+good+as+new_20003033.html   \n",
      "3   ABBA                   Bang                  /a/abba/bang_20598415.html   \n",
      "4   ABBA       Bang-A-Boomerang      /a/abba/bang+a+boomerang_20002668.html   \n",
      "\n",
      "                                                text  \n",
      "0  Look at her face, it's a wonderful face  \\nAnd...  \n",
      "1  Take it easy with me, please  \\nTouch me gentl...  \n",
      "2  I'll never know why I had to go  \\nWhy I had t...  \n",
      "3  Making somebody happy is a question of give an...  \n",
      "4  Making somebody happy is a question of give an...  \n"
     ]
    }
   ],
   "source": [
    "# The data\n",
    "df = pd.read_csv('songdata.csv')\n",
    "\n",
    "print(df.head())\n"
   ]
  },
  {
   "cell_type": "code",
   "execution_count": 31,
   "metadata": {},
   "outputs": [],
   "source": [
    "class DataLoader:\n",
    "    '''Class for loading and preprocessing lyrics from an input csv file.'''\n",
    "    def __init__(self, input_file='songdata.csv'):\n",
    "        self.df = pd.read_csv(input_file)\n",
    "        self.num_songs = self.df.shape[0]\n",
    "        print('{} songs loaded!'.format(self.num_songs))\n",
    "    \n",
    "    def _id(self):\n",
    "        '''Create unique ID for each song using the link in the data.'''\n",
    "        self.links = list(self.df['link'].str.split('/'))\n",
    "        # Create the ID from the last entry, strip .html part\n",
    "        create_id = lambda l: l[-1].strip('.html')\n",
    "        self.ids = list(map(create_id, self.links))\n",
    "        return self.ids\n",
    "        \n",
    "    def _preprocess(self):\n",
    "        '''Pre-process the lyrics. Create a unique ID for each song using the link in the data.\n",
    "        \n",
    "        Returns a dictionary which maps (artist, song_name, ID)\n",
    "        to the lyrics (list of words).'''\n",
    "        self.dict = {}\n",
    "        self.artists = list(self.df['artist'])\n",
    "        self.song_names = list(self.df['song'])\n",
    "        self.ids = self._id()\n",
    "        self.lyrics = self.df['text'] \n",
    "        \n",
    "        for idx, lyric in enumerate(self.lyrics):\n",
    "            if idx % 5000 == 0: print('Processing lyrics: {}'.format(idx))            \n",
    "            # Feed each string into the cool gensim preprocessor:\n",
    "            # https://radimrehurek.com/gensim/utils.html#gensim.utils.simple_preprocess\n",
    "            \n",
    "            processed_lyrics = gensim.utils.simple_preprocess(lyric)\n",
    "            \n",
    "            # Fill the dictionary\n",
    "            self.dict[(self.artists[idx], self.song_names[idx], self.ids[idx])] = processed_lyrics\n",
    "        \n",
    "        print('Pre-processing complete!')\n",
    "        return self.dict\n",
    "    \n",
    "    def _aggregate(self, data):\n",
    "        '''Aggregate the lyrics into a 2D array.'''\n",
    "        # Initialize the 2D list\n",
    "        word_list_2d = []\n",
    "        for word_list in list(data.values()):\n",
    "            word_list_2d.append(word_list)\n",
    "        \n",
    "        return word_list_2d\n",
    "    \n",
    "    def get_data(self):\n",
    "        '''Get a tuple containing: \n",
    "        Dictionary that maps (artist, songname, ID) --> lyrics\n",
    "        2D set of lyrics as list of words.\n",
    "        '''\n",
    "        self.dict = self._preprocess()\n",
    "        self.word_list_2d = self._aggregate(self.dict)\n",
    "        return (self.dict, self.word_list_2d)\n",
    "    "
   ]
  },
  {
   "cell_type": "code",
   "execution_count": 32,
   "metadata": {},
   "outputs": [
    {
     "name": "stdout",
     "output_type": "stream",
     "text": [
      "57650 songs loaded!\n",
      "Processing lyrics: 0\n",
      "Processing lyrics: 5000\n",
      "Processing lyrics: 10000\n",
      "Processing lyrics: 15000\n",
      "Processing lyrics: 20000\n",
      "Processing lyrics: 25000\n",
      "Processing lyrics: 30000\n",
      "Processing lyrics: 35000\n",
      "Processing lyrics: 40000\n",
      "Processing lyrics: 45000\n",
      "Processing lyrics: 50000\n",
      "Processing lyrics: 55000\n",
      "Pre-processing complete!\n"
     ]
    }
   ],
   "source": [
    "loader = DataLoader()\n",
    "data = loader.get_data()"
   ]
  },
  {
   "cell_type": "code",
   "execution_count": 33,
   "metadata": {},
   "outputs": [
    {
     "name": "stdout",
     "output_type": "stream",
     "text": [
      "('ABBA', \"Ahe's My Kind Of Girl\", 'ahes+my+kind+of+girl_20598417')\n",
      "['look', 'at', 'her', 'face', 'it', 'wonderful', 'face', 'and', 'it', 'means', 'something', 'special', 'to', 'me', 'look', 'at', 'the', 'way', 'that', 'she', 'smiles', 'when', 'she', 'sees', 'me', 'how', 'lucky', 'can', 'one', 'fellow', 'be', 'she', 'just', 'my', 'kind', 'of', 'girl', 'she', 'makes', 'me', 'feel', 'fine', 'who', 'could', 'ever', 'believe', 'that', 'she', 'could', 'be', 'mine', 'she', 'just', 'my', 'kind', 'of', 'girl', 'without', 'her', 'blue', 'and', 'if', 'she', 'ever', 'leaves', 'me', 'what', 'could', 'do', 'what', 'could', 'do', 'and', 'when', 'we', 'go', 'for', 'walk', 'in', 'the', 'park', 'and', 'she', 'holds', 'me', 'and', 'squeezes', 'my', 'hand', 'we', 'll', 'go', 'on', 'walking', 'for', 'hours', 'and', 'talking', 'about', 'all', 'the', 'things', 'that', 'we', 'plan', 'she', 'just', 'my', 'kind', 'of', 'girl', 'she', 'makes', 'me', 'feel', 'fine', 'who', 'could', 'ever', 'believe', 'that', 'she', 'could', 'be', 'mine', 'she', 'just', 'my', 'kind', 'of', 'girl', 'without', 'her', 'blue', 'and', 'if', 'she', 'ever', 'leaves', 'me', 'what', 'could', 'do', 'what', 'could', 'do']\n"
     ]
    }
   ],
   "source": [
    "# Take a look at few entries in the data \n",
    "\n",
    "# The dictionary\n",
    "\n",
    "print(list(data[0].keys())[0])\n",
    "print(list(data[0].values())[0])\n"
   ]
  },
  {
   "cell_type": "code",
   "execution_count": 34,
   "metadata": {},
   "outputs": [
    {
     "name": "stdout",
     "output_type": "stream",
     "text": [
      "[['look', 'at', 'her', 'face', 'it', 'wonderful', 'face', 'and', 'it', 'means', 'something', 'special', 'to', 'me', 'look', 'at', 'the', 'way', 'that', 'she', 'smiles', 'when', 'she', 'sees', 'me', 'how', 'lucky', 'can', 'one', 'fellow', 'be', 'she', 'just', 'my', 'kind', 'of', 'girl', 'she', 'makes', 'me', 'feel', 'fine', 'who', 'could', 'ever', 'believe', 'that', 'she', 'could', 'be', 'mine', 'she', 'just', 'my', 'kind', 'of', 'girl', 'without', 'her', 'blue', 'and', 'if', 'she', 'ever', 'leaves', 'me', 'what', 'could', 'do', 'what', 'could', 'do', 'and', 'when', 'we', 'go', 'for', 'walk', 'in', 'the', 'park', 'and', 'she', 'holds', 'me', 'and', 'squeezes', 'my', 'hand', 'we', 'll', 'go', 'on', 'walking', 'for', 'hours', 'and', 'talking', 'about', 'all', 'the', 'things', 'that', 'we', 'plan', 'she', 'just', 'my', 'kind', 'of', 'girl', 'she', 'makes', 'me', 'feel', 'fine', 'who', 'could', 'ever', 'believe', 'that', 'she', 'could', 'be', 'mine', 'she', 'just', 'my', 'kind', 'of', 'girl', 'without', 'her', 'blue', 'and', 'if', 'she', 'ever', 'leaves', 'me', 'what', 'could', 'do', 'what', 'could', 'do'], ['take', 'it', 'easy', 'with', 'me', 'please', 'touch', 'me', 'gently', 'like', 'summer', 'evening', 'breeze', 'take', 'your', 'time', 'make', 'it', 'slow', 'andante', 'andante', 'just', 'let', 'the', 'feeling', 'grow', 'make', 'your', 'fingers', 'soft', 'and', 'light', 'let', 'your', 'body', 'be', 'the', 'velvet', 'of', 'the', 'night', 'touch', 'my', 'soul', 'you', 'know', 'how', 'andante', 'andante', 'go', 'slowly', 'with', 'me', 'now', 'your', 'music', 'am', 'your', 'music', 'and', 'am', 'your', 'song', 'your', 'song', 'am', 'your', 'music', 'and', 'am', 'your', 'song', 'play', 'me', 'time', 'and', 'time', 'again', 'and', 'make', 'me', 'strong', 'play', 'me', 'again', 'cause', 'you', 're', 'making', 'me', 'strong', 'make', 'me', 'sing', 'make', 'me', 'sound', 'you', 'make', 'me', 'sing', 'and', 'you', 'make', 'me', 'andante', 'andante', 'tread', 'lightly', 'on', 'my', 'ground', 'andante', 'andante', 'oh', 'please', 'don', 'let', 'me', 'down', 'there', 'shimmer', 'in', 'your', 'eyes', 'like', 'the', 'feeling', 'of', 'thousand', 'butterflies', 'please', 'don', 'talk', 'go', 'on', 'play', 'andante', 'andante', 'and', 'let', 'me', 'float', 'away', 'your', 'music', 'am', 'your', 'music', 'and', 'am', 'your', 'song', 'your', 'song', 'am', 'your', 'music', 'and', 'am', 'your', 'song', 'play', 'me', 'time', 'and', 'time', 'again', 'and', 'make', 'me', 'strong', 'play', 'me', 'again', 'cause', 'you', 're', 'making', 'me', 'strong', 'make', 'me', 'sing', 'make', 'me', 'sound', 'you', 'make', 'me', 'sing', 'and', 'you', 'make', 'me', 'andante', 'andante', 'tread', 'lightly', 'on', 'my', 'ground', 'andante', 'andante', 'oh', 'please', 'don', 'let', 'me', 'down', 'make', 'me', 'sing', 'make', 'me', 'sound', 'you', 'make', 'me', 'sing', 'and', 'you', 'make', 'me', 'andante', 'andante', 'tread', 'lightly', 'on', 'my', 'ground', 'andante', 'andante', 'oh', 'please', 'don', 'let', 'me', 'down', 'andante', 'andante', 'oh', 'please', 'don', 'let', 'me', 'down']]\n"
     ]
    },
    {
     "data": {
      "text/plain": [
       "57650"
      ]
     },
     "execution_count": 34,
     "metadata": {},
     "output_type": "execute_result"
    }
   ],
   "source": [
    "# First few entries in the 2D array\n",
    "\n",
    "print(data[1][:2])\n",
    "\n",
    "loader.num_songs"
   ]
  },
  {
   "cell_type": "code",
   "execution_count": null,
   "metadata": {},
   "outputs": [],
   "source": []
  }
 ],
 "metadata": {
  "kernelspec": {
   "display_name": "Python 3",
   "language": "python",
   "name": "python3"
  },
  "language_info": {
   "codemirror_mode": {
    "name": "ipython",
    "version": 3
   },
   "file_extension": ".py",
   "mimetype": "text/x-python",
   "name": "python",
   "nbconvert_exporter": "python",
   "pygments_lexer": "ipython3",
   "version": "3.7.3"
  }
 },
 "nbformat": 4,
 "nbformat_minor": 2
}
