{
 "cells": [
  {
   "cell_type": "code",
   "execution_count": 1,
   "metadata": {},
   "outputs": [],
   "source": [
    "import gensim\n",
    "import pandas as pd"
   ]
  },
  {
   "cell_type": "code",
   "execution_count": 3,
   "metadata": {},
   "outputs": [
    {
     "name": "stdout",
     "output_type": "stream",
     "text": [
      "  artist                   song                                        link  \\\n",
      "0   ABBA  Ahe's My Kind Of Girl  /a/abba/ahes+my+kind+of+girl_20598417.html   \n",
      "1   ABBA       Andante, Andante       /a/abba/andante+andante_20002708.html   \n",
      "2   ABBA         As Good As New        /a/abba/as+good+as+new_20003033.html   \n",
      "3   ABBA                   Bang                  /a/abba/bang_20598415.html   \n",
      "4   ABBA       Bang-A-Boomerang      /a/abba/bang+a+boomerang_20002668.html   \n",
      "\n",
      "                                                text  \n",
      "0  Look at her face, it's a wonderful face  \\nAnd...  \n",
      "1  Take it easy with me, please  \\nTouch me gentl...  \n",
      "2  I'll never know why I had to go  \\nWhy I had t...  \n",
      "3  Making somebody happy is a question of give an...  \n",
      "4  Making somebody happy is a question of give an...  \n"
     ]
    }
   ],
   "source": [
    "# The data\n",
    "df = pd.read_csv('songdata.csv')\n",
    "\n",
    "print(df.head())\n"
   ]
  },
  {
   "cell_type": "code",
   "execution_count": 4,
   "metadata": {},
   "outputs": [],
   "source": [
    "class DataLoader:\n",
    "    '''Class for loading and preprocessing lyrics from an input csv file.'''\n",
    "    def __init__(self, input_file='songdata.csv'):\n",
    "        df = pd.read_csv(input_file)\n",
    "        self.num_songs = df.shape[0]\n",
    "        print('{} songs loaded!'.format(self.num_songs))\n",
    "    \n",
    "    def _id(self, df):\n",
    "        '''Create unique ID for each song using the link in the data.'''\n",
    "        self.links = list(df['link'].str.split('/'))\n",
    "        # Create the ID from the last entry, strip .html part\n",
    "        create_id = lambda l: l[-1].strip('.html')\n",
    "        self.links = list(map(create_id, self.links))\n",
    "        return self.links\n",
    "        \n",
    "    def _preprocess(self):\n",
    "        '''Pre-process the lyrics. Create a unique ID for each song using the link in the data.\n",
    "        \n",
    "        Returns a dictionary which maps (artist, song_name, ID)\n",
    "        to the lyrics (list of words).'''\n",
    "        self.data = {}\n",
    "        self.artists, self.song_names, self.links = list(df['artist']), list(df['song']), self._id(df)\n",
    "        \n",
    "        # Get full lyrics, create a 2D list of words out of them\n",
    "        self.lyrics = df['text'] \n",
    "        \n",
    "        for idx, lyric in enumerate(self.lyrics):\n",
    "            if idx % 5000 == 0: print('Processing lyrics: {}'.format(idx))            \n",
    "            # Feed each string into the cool gensim preprocessor:\n",
    "            # https://radimrehurek.com/gensim/utils.html#gensim.utils.simple_preprocess\n",
    "            \n",
    "            full_processed_lyrics = gensim.utils.simple_preprocess(lyric)\n",
    "            \n",
    "            # Fill the dictionary\n",
    "            self.data[(self.artists[idx], self.song_names[idx], self.links[idx])] = full_processed_lyrics\n",
    "        \n",
    "        print('Pre-processing complete!')\n",
    "        return self.data\n",
    "    \n",
    "    def get_data(self):\n",
    "        '''Get the dictionary containing (artist, songname, ID) --> lyrics'''\n",
    "        return self._preprocess()\n",
    "    \n",
    "        \n",
    "    \n",
    "        "
   ]
  },
  {
   "cell_type": "code",
   "execution_count": 6,
   "metadata": {},
   "outputs": [
    {
     "name": "stdout",
     "output_type": "stream",
     "text": [
      "57650 songs loaded!\n",
      "Processing lyrics: 0\n",
      "Processing lyrics: 5000\n",
      "Processing lyrics: 10000\n",
      "Processing lyrics: 15000\n",
      "Processing lyrics: 20000\n",
      "Processing lyrics: 25000\n",
      "Processing lyrics: 30000\n",
      "Processing lyrics: 35000\n",
      "Processing lyrics: 40000\n",
      "Processing lyrics: 45000\n",
      "Processing lyrics: 50000\n",
      "Processing lyrics: 55000\n",
      "Pre-processing complete!\n"
     ]
    }
   ],
   "source": [
    "loader = DataLoader()\n",
    "lyrics = loader.get_data()"
   ]
  },
  {
   "cell_type": "code",
   "execution_count": 9,
   "metadata": {},
   "outputs": [
    {
     "name": "stdout",
     "output_type": "stream",
     "text": [
      "('ABBA', \"Ahe's My Kind Of Girl\", 'ahes+my+kind+of+girl_20598417')\n",
      "['look', 'at', 'her', 'face', 'it', 'wonderful', 'face', 'and', 'it', 'means', 'something', 'special', 'to', 'me', 'look', 'at', 'the', 'way', 'that', 'she', 'smiles', 'when', 'she', 'sees', 'me', 'how', 'lucky', 'can', 'one', 'fellow', 'be', 'she', 'just', 'my', 'kind', 'of', 'girl', 'she', 'makes', 'me', 'feel', 'fine', 'who', 'could', 'ever', 'believe', 'that', 'she', 'could', 'be', 'mine', 'she', 'just', 'my', 'kind', 'of', 'girl', 'without', 'her', 'blue', 'and', 'if', 'she', 'ever', 'leaves', 'me', 'what', 'could', 'do', 'what', 'could', 'do', 'and', 'when', 'we', 'go', 'for', 'walk', 'in', 'the', 'park', 'and', 'she', 'holds', 'me', 'and', 'squeezes', 'my', 'hand', 'we', 'll', 'go', 'on', 'walking', 'for', 'hours', 'and', 'talking', 'about', 'all', 'the', 'things', 'that', 'we', 'plan', 'she', 'just', 'my', 'kind', 'of', 'girl', 'she', 'makes', 'me', 'feel', 'fine', 'who', 'could', 'ever', 'believe', 'that', 'she', 'could', 'be', 'mine', 'she', 'just', 'my', 'kind', 'of', 'girl', 'without', 'her', 'blue', 'and', 'if', 'she', 'ever', 'leaves', 'me', 'what', 'could', 'do', 'what', 'could', 'do']\n"
     ]
    },
    {
     "data": {
      "text/plain": [
       "57650"
      ]
     },
     "execution_count": 9,
     "metadata": {},
     "output_type": "execute_result"
    }
   ],
   "source": [
    "# Take a look at few entries in the data dictionary: (artist, song_name, id) : (lyrics)\n",
    "print(list(lyrics.keys())[0])\n",
    "print(list(lyrics.values())[0])\n",
    "\n",
    "loader.num_songs"
   ]
  },
  {
   "cell_type": "code",
   "execution_count": null,
   "metadata": {},
   "outputs": [],
   "source": []
  }
 ],
 "metadata": {
  "kernelspec": {
   "display_name": "Python 3",
   "language": "python",
   "name": "python3"
  },
  "language_info": {
   "codemirror_mode": {
    "name": "ipython",
    "version": 3
   },
   "file_extension": ".py",
   "mimetype": "text/x-python",
   "name": "python",
   "nbconvert_exporter": "python",
   "pygments_lexer": "ipython3",
   "version": "3.7.3"
  }
 },
 "nbformat": 4,
 "nbformat_minor": 2
}
